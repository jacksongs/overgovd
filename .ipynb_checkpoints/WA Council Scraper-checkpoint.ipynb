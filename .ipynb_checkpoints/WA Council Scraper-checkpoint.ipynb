{
 "cells": [
  {
   "cell_type": "code",
   "execution_count": 2,
   "metadata": {
    "collapsed": false
   },
   "outputs": [],
   "source": [
    "# First off we will get the links to the council pages from the directory\n",
    "\n",
    "import requests\n",
    "from bs4 import BeautifulSoup\n",
    "\n",
    "base = \"http://walga.asn.au/About-Local-Government/Online-Local-Government-Directory.aspx?page=\"\n",
    "councilpages = []\n",
    "\n",
    "for number in range(1,15):\n",
    "    soup = BeautifulSoup(requests.get(base+str(number)).content,'lxml')\n",
    "    divs = soup.find_all('div',class_='result-title')\n",
    "    for div in divs:\n",
    "        councilpages.append(div.find('a').get('href'))"
   ]
  },
  {
   "cell_type": "code",
   "execution_count": 10,
   "metadata": {
    "collapsed": false
   },
   "outputs": [],
   "source": [
    "# Now we will extract these one by one\n",
    "\n",
    "councillors = {}\n",
    "\n",
    "for page in councilpages:\n",
    "    html = requests.get(page).content\n",
    "    soupy = BeautifulSoup(html,'lxml')\n",
    "    council = soupy.find('div',class_='council-structure')\n",
    "    councillors[soupy.find('span',class_='CMSBreadCrumbsCurrentItem').text] = council.text.strip()"
   ]
  },
  {
   "cell_type": "code",
   "execution_count": 13,
   "metadata": {
    "collapsed": false
   },
   "outputs": [],
   "source": [
    "# Now we will get counts of councillors per council based on how many (2017) or (2019) references there are\n",
    "\n",
    "counter = {}\n",
    "\n",
    "for key in councillors.keys():\n",
    "    counter[key] = councillors[key].count('(2017)') + councillors[key].count('(2019)')\n",
    "    "
   ]
  },
  {
   "cell_type": "code",
   "execution_count": 18,
   "metadata": {
    "collapsed": false
   },
   "outputs": [],
   "source": [
    "import pandas as pd\n",
    "\n",
    "df = pd.Series(counter).to_csv('wacouncillors.csv')\n"
   ]
  },
  {
   "cell_type": "code",
   "execution_count": null,
   "metadata": {
    "collapsed": true
   },
   "outputs": [],
   "source": []
  }
 ],
 "metadata": {
  "anaconda-cloud": {},
  "kernelspec": {
   "display_name": "Python [conda root]",
   "language": "python",
   "name": "conda-root-py"
  },
  "language_info": {
   "codemirror_mode": {
    "name": "ipython",
    "version": 3
   },
   "file_extension": ".py",
   "mimetype": "text/x-python",
   "name": "python",
   "nbconvert_exporter": "python",
   "pygments_lexer": "ipython3",
   "version": "3.5.2"
  }
 },
 "nbformat": 4,
 "nbformat_minor": 1
}
